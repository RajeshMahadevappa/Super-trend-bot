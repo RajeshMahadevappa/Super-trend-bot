{
 "cells": [
  {
   "cell_type": "markdown",
   "id": "fb5f3e95",
   "metadata": {},
   "source": [
    "# Super Trend Stragety [Supertrend + EMA(200) + RSI(50) + ATR(14)] - v1"
   ]
  },
  {
   "cell_type": "markdown",
   "id": "896b9d5e",
   "metadata": {},
   "source": [
    "## Library "
   ]
  },
  {
   "cell_type": "code",
   "execution_count": null,
   "id": "99003c24",
   "metadata": {},
   "outputs": [],
   "source": [
    "from smartapi import SmartConnect\n",
    "import pandas as pd\n",
    "import pandas_ta as ta\n",
    "from datetime import datetime, timedelta\n",
    "import credentials\n",
    "import stock\n",
    "import requests\n",
    "import numpy as np\n",
    "import json\n",
    "from time import time, sleep\n",
    "from talib.abstract import *\n",
    "import threading\n",
    "import warnings\n",
    "warnings.filterwarnings('ignore')"
   ]
  },
  {
   "cell_type": "code",
   "execution_count": null,
   "id": "b426c1ab",
   "metadata": {},
   "outputs": [],
   "source": [
    "#df = pd.read_excel(\"list.xlsx\")\n",
    "#SYMBOL_LIST = df['Symbol']"
   ]
  },
  {
   "cell_type": "markdown",
   "id": "d4e2bbe9",
   "metadata": {},
   "source": [
    "## Symbols List"
   ]
  },
  {
   "cell_type": "code",
   "execution_count": null,
   "id": "e3d7e4fe",
   "metadata": {},
   "outputs": [],
   "source": [
    "SYMBOL_LIST = ['BHEL,INFY,BHEL']\n",
    "TRADED_SYMBOL = []\n",
    "timeFrame = 60 + 5 #5 sec coz dealy repsone of historical API"
   ]
  },
  {
   "cell_type": "markdown",
   "id": "2cf1a4f3",
   "metadata": {},
   "source": [
    "## Order Place NSE Exchange "
   ]
  },
  {
   "cell_type": "code",
   "execution_count": null,
   "id": "596fe9c4",
   "metadata": {},
   "outputs": [],
   "source": [
    "def place_order(token,symbol,qty,buy_sell,ordertype,price,variety= 'NORMAL',exch_seg='NSE',triggerprice=0):\n",
    "    try:\n",
    "        orderparams = {\n",
    "            \"variety\": variety,\n",
    "            \"tradingsymbol\": symbol,\n",
    "            \"symboltoken\": token,\n",
    "            \"transactiontype\": buy_sell,\n",
    "            \"exchange\": exch_seg,\n",
    "            \"ordertype\": ordertype,\n",
    "            \"producttype\": \"INTRADAY\",\n",
    "            \"duration\": \"DAY\",\n",
    "            \"price\": price,\n",
    "            \"squareoff\": \"0\",\n",
    "            \"stoploss\": \"0\",\n",
    "            \"quantity\": qty,\n",
    "            \"triggerprice\":triggerprice\n",
    "            }\n",
    "        orderId=credentials.SMART_API_OBJ.placeOrder(orderparams)\n",
    "        print(\"The order id is: {}\".format(orderId))\n",
    "    except Exception as e:\n",
    "        print(\"Order placement failed: {}\".format(e.message))"
   ]
  },
  {
   "cell_type": "markdown",
   "id": "cad2b57d",
   "metadata": {},
   "source": [
    "## Geting The Stock Details From Angel API"
   ]
  },
  {
   "cell_type": "code",
   "execution_count": null,
   "id": "79e98e26",
   "metadata": {},
   "outputs": [],
   "source": [
    "def intializeSymbolTokenMap():\n",
    "    url = 'https://margincalculator.angelbroking.com/OpenAPI_File/files/OpenAPIScripMaster.json'\n",
    "    d = requests.get(url).json()\n",
    "    global token_df\n",
    "    token_df = pd.DataFrame.from_dict(d)\n",
    "    token_df['expiry'] = pd.to_datetime(token_df['expiry'])\n",
    "    token_df = token_df.astype({'strike': float})\n",
    "    credentials.TOKEN_MAP = token_df"
   ]
  },
  {
   "cell_type": "markdown",
   "id": "dda4b766",
   "metadata": {},
   "source": [
    "## To Get The Stock Symbol and Token From API"
   ]
  },
  {
   "cell_type": "code",
   "execution_count": null,
   "id": "36026081",
   "metadata": {},
   "outputs": [],
   "source": [
    "def getTokenInfo (symbol, exch_seg ='NSE',instrumenttype='OPTIDX',strike_price = '',pe_ce = 'CE'):\n",
    "    df = credentials.TOKEN_MAP\n",
    "    strike_price = strike_price*100\n",
    "    if exch_seg == 'NSE':\n",
    "        eq_df = df[(df['exch_seg'] == 'NSE') & (df['symbol'].str.contains('EQ')) ]\n",
    "        return eq_df[eq_df['name'] == symbol]\n",
    "    elif exch_seg == 'NFO' and ((instrumenttype == 'FUTSTK') or (instrumenttype == 'FUTIDX')):\n",
    "        return df[(df['exch_seg'] == 'NFO') & (df['instrumenttype'] == instrumenttype) & (df['name'] == symbol)].sort_values(by=['expiry'])\n",
    "    elif exch_seg == 'NFO' and (instrumenttype == 'OPTSTK' or instrumenttype == 'OPTIDX'):\n",
    "        return df[(df['exch_seg'] == 'NFO') & (df['instrumenttype'] == instrumenttype) & (df['name'] == symbol) & (df['strike'] == strike_price) & (df['symbol'].str.endswith(pe_ce))].sort_values(by=['expiry'])\n"
   ]
  },
  {
   "cell_type": "markdown",
   "id": "fa5bb2bd",
   "metadata": {},
   "source": [
    "## BUY and SELL Indicatore  "
   ]
  },
  {
   "cell_type": "code",
   "execution_count": null,
   "id": "ff876340",
   "metadata": {},
   "outputs": [],
   "source": [
    "def calculate_inidcator(res_json):\n",
    "    columns = ['timestamp', 'O', 'H', 'L', 'C', 'V']\n",
    "    df = pd.DataFrame(res_json['data'], columns=columns)\n",
    "    df['timestamp'] = pd.to_datetime(df['timestamp'], format='%Y-%m-%dT%H:%M:%S')\n",
    "    \n",
    "    #Inidcator for Stock \n",
    "    df['sup'] = ta.supertrend(high=df['H'], low=df['L'], close=df['C'], period=5, multiplier=1)['SUPERT_7_1.0']\n",
    "    df['EMA200'] = EMA(df.C, timeperiod=200)\n",
    "    df['RSI'] = RSI(df.C, timeperiod=7)\n",
    "    df['ATR'] = ATR(df.H, df.L, df.C, timeperiod=7)\n",
    "\n",
    "    df['supertrend_Buy'] = df['supertrend_Sell'] = df['EMA3_BUY'] = df['EMA3_SELL'] = df['EMA200_BUY'] = df['EMA200_SELL'] = df['RSI_UP'] = df['RSI_DOWN'] = df['Buy_Signal'] = df['Sell_Signal'] =  0\n",
    "    df = df.round(decimals=2)\n",
    "\n",
    "    for i in range(7, len(df)):   \n",
    "        #SuperTrend Calcualtion \n",
    "        if df['C'][i-1]<= df['sup'][i-1] and df['C'][i] > df['sup'][i]:\n",
    "            df['supertrend_Buy'][i] = 1\n",
    "        if df['C'][i-1] >= df['sup'][i-1] and df['C'][i] < df['sup'][i]:\n",
    "            df['supertrend_Sell'][i] = 1\n",
    "        #EMA-200 Calculator   \n",
    "        if df['C'][i-1] > df['EMA200'][i]:\n",
    "            df['EMA200_BUY'][i] = 1\n",
    "        if df['C'][i-1] < df['EMA200'][i]:\n",
    "            df['EMA200_SELL'][i] = 1\n",
    "        #RSI Calculator        \n",
    "        if df['RSI'][i] >= 60: \n",
    "            df['RSI_UP'][i] = 1\n",
    "        if df['RSI'][i] <= 40: \n",
    "            df['RSI_DOWN'][i] = 1\n",
    "        #BUY and SELL Signal \n",
    "        if df['supertrend_Buy'][i] and df['RSI_UP'][i] and df['EMA200_BUY'][i] :\n",
    "            df['Buy_Signal'][i] = 1\n",
    "        if df['supertrend_Sell'][i] and df['RSI_DOWN'][i] and df['EMA200_SELL'][i] :\n",
    "            df['Sell_Signal'][i] = 1\n",
    "\n",
    "    #Buy and SELL Input \n",
    "    df[(df['Buy_Signal'] > 0) | (df['Sell_Signal'] > 0)]\n",
    "    print(df.tail(10))\n",
    "    return df"
   ]
  },
  {
   "cell_type": "markdown",
   "id": "80cf3d77",
   "metadata": {},
   "source": [
    "## Getting Historical Data "
   ]
  },
  {
   "cell_type": "code",
   "execution_count": null,
   "id": "b9ebb502",
   "metadata": {},
   "outputs": [],
   "source": [
    "def getHistoricalAPI(token,interval= 'FIVE_MINUTE'):\n",
    "    to_date= datetime.now()\n",
    "    from_date = to_date - timedelta(days=5)\n",
    "    from_date_format = from_date.strftime(\"%Y-%m-%d %H:%M\")\n",
    "    to_date_format = to_date.strftime(\"%Y-%m-%d %H:%M\")\n",
    "    try:\n",
    "        historicParam={\n",
    "        \"exchange\": \"NSE\",\n",
    "        \"symboltoken\": token,\n",
    "        \"interval\": interval,\n",
    "        \"fromdate\": from_date_format, \n",
    "        \"todate\": to_date_format\n",
    "        }\n",
    "        candel_json  = credentials.SMART_API_OBJ.getCandleData(historicParam)\n",
    "        return calculate_inidcator(candel_json)\n",
    "    except Exception as e:\n",
    "        print(\"Historic Api failed: {}\".format(e))\n"
   ]
  },
  {
   "cell_type": "markdown",
   "id": "de574c1a",
   "metadata": {},
   "source": [
    "## Price, Target, Stoploss Calculation and Order Plcaement "
   ]
  },
  {
   "cell_type": "code",
   "execution_count": null,
   "id": "d370dfb8",
   "metadata": {},
   "outputs": [],
   "source": [
    "def checkSingnal():\n",
    "    start = time()\n",
    "    global TRADED_SYMBOL\n",
    "    \n",
    "    for symbol in SYMBOL_LIST :\n",
    "        if symbol not in TRADED_SYMBOL:\n",
    "            tokenInfo = getTokenInfo(symbol).iloc[0]\n",
    "            token = tokenInfo['token']\n",
    "            symbol = tokenInfo['symbol']\n",
    "            print(symbol, token)\n",
    "            candel_df = getHistoricalAPI(token)\n",
    "            if candel_df is not None :\n",
    "                latest_candel = candel_df.iloc[-1]\n",
    "                if latest_candel['Buy_Signal'] == 1 :\n",
    "                   \n",
    "                    ltp = latest_candel['C']\n",
    "                    percentage =  0.5\n",
    "                    #SL_cal = ltp - 5 * percentage\n",
    "                    #SL = 2 * round(SL_cal / 2)\n",
    "                    target = ltp + 5 *latest_candel['ATR']\n",
    "                    target = round(target,1)\n",
    "                    qty = 79   #qunatity to trade\n",
    "                    \n",
    "                    res1= place_order(token,symbol,qty,'BUY','MARKET',0) #buy order\n",
    "                    #res2 = place_order(token,symbol,qty,'SELL','STOPLOSS_MARKET',0,variety='STOPLOSS',triggerprice= SL) #SL order\n",
    "                    res3 = place_order(token,symbol,qty,'SELL','LIMIT',target) #taget order\n",
    "                    print(res1 , res3)\n",
    "                    print(f'Order Placed for {symbol}  TGT {target} QTY {qty} at {datetime.now()}')\n",
    "                    TRADED_SYMBOL.append(symbol)\n",
    "\n",
    "                if latest_candel['Sell_Signal'] == 1:\n",
    "                    ltp = latest_candel['C']\n",
    "                    percentage = 0.5\n",
    "                    #SL_cal = ltp + 5 * percentage\n",
    "                    #SL = 2 * round(SL_cal / 2)\n",
    "                    target = ltp - 5 *latest_candel['ATR']\n",
    "                    target = round(target,1)\n",
    "                    qty = 79  # qunatity to trade\n",
    "\n",
    "                    res1 = place_order(token, symbol, qty, 'SELL', 'MARKET', 0)  # buy order\n",
    "                    #res2 = place_order(token, symbol, qty, 'BUY', 'STOPLOSS_MARKET', 0,variety='STOPLOSS',triggerprice=SL)  # SL order\n",
    "                    res3 = place_order(token, symbol, qty, 'BUY', 'LIMIT', target)  # taget order\n",
    "                    print(res1, res3)\n",
    "                    print(f'Order Placed for {symbol}  TGT {target} QTY {qty} at {datetime.now()}')\n",
    "                    TRADED_SYMBOL.append(symbol)\n",
    "\n",
    "\n",
    "    interval = timeFrame - (time()-start)   \n",
    "    print(interval)\n",
    "    threading.Timer(interval, checkSingnal).start()"
   ]
  },
  {
   "cell_type": "markdown",
   "id": "9ab11061",
   "metadata": {},
   "source": [
    "## Every Interval Code Re-exceute "
   ]
  },
  {
   "cell_type": "code",
   "execution_count": null,
   "id": "cf39e36f",
   "metadata": {},
   "outputs": [],
   "source": [
    "if __name__ == '__main__':\n",
    "    intializeSymbolTokenMap()\n",
    "    obj=SmartConnect(api_key=credentials.API_KEY)\n",
    "    data = obj.generateSession(credentials.USER_NAME,credentials.PWD)\n",
    "    credentials.SMART_API_OBJ = obj\n",
    "   \n",
    "    interval = timeFrame - datetime.now().second\n",
    "    print(f\"Code run after {interval} sec\")\n",
    "    sleep(interval)\n",
    "    checkSingnal()"
   ]
  }
 ],
 "metadata": {
  "kernelspec": {
   "display_name": "Python 3 (ipykernel)",
   "language": "python",
   "name": "python3"
  },
  "language_info": {
   "codemirror_mode": {
    "name": "ipython",
    "version": 3
   },
   "file_extension": ".py",
   "mimetype": "text/x-python",
   "name": "python",
   "nbconvert_exporter": "python",
   "pygments_lexer": "ipython3",
   "version": "3.9.7"
  }
 },
 "nbformat": 4,
 "nbformat_minor": 5
}
